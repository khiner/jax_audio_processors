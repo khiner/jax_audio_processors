{
 "cells": [
  {
   "cell_type": "code",
   "execution_count": null,
   "metadata": {},
   "outputs": [],
   "source": [
    "import numpy as np\n",
    "import jax.numpy as jnp\n",
    "from jax import value_and_grad, jit\n",
    "from scipy import signal"
   ]
  },
  {
   "cell_type": "code",
   "execution_count": null,
   "metadata": {},
   "outputs": [],
   "source": [
    "from jaxdsp.loss import LossOptions, loss_fn, stft\n",
    "\n",
    "amp = 1e-2\n",
    "sample_rate = 16_000\n",
    "audio = amp * (np.random.rand(sample_rate * 4).astype(np.float32) * 2.0 - 1.0)\n",
    "frame_size = 2048\n",
    "hop_size = 128\n",
    "overlap = 1.0 - float(hop_size) / frame_size\n",
    "pad_end = True\n",
    "\n",
    "s_np = signal.stft(audio,\n",
    "                   nperseg=int(frame_size),\n",
    "                   noverlap=int(overlap),\n",
    "                   nfft=int(frame_size),\n",
    "                   padded=pad_end)\n",
    "s_jdsp = stft(audio, frame_size=frame_size, overlap=overlap, pad_end=pad_end)\n",
    "\n",
    "np.allclose(s_np[0], s_jdsp[0]), np.allclose(s_np[1], s_jdsp[1]), np.allclose(s_np[2], s_jdsp[2])"
   ]
  },
  {
   "cell_type": "code",
   "execution_count": null,
   "metadata": {},
   "outputs": [],
   "source": [
    "input_audio = jnp.zeros((2, sample_rate // 2))\n",
    "target_audio = jnp.ones(input_audio.shape)\n",
    "\n",
    "spectral_loss_opts = LossOptions(\n",
    "    weights={\n",
    "        \"cumsum_freq\": 1.0,\n",
    "    },\n",
    "    distance_types={\n",
    "        \"sample\": \"L2\",\n",
    "        \"frequency\": \"L2\",\n",
    "    }\n",
    ")\n",
    "loss_value = loss_fn(input_audio, target_audio, spectral_loss_opts)\n",
    "float(loss_value)"
   ]
  },
  {
   "cell_type": "code",
   "execution_count": null,
   "metadata": {},
   "outputs": [],
   "source": [
    "import matplotlib.pyplot as plt\n",
    "\n",
    "@jit\n",
    "def gen_sinusoid(frequency, amplitude=1.0, length_seconds=1.0):\n",
    "    t = jnp.linspace(0.0, length_seconds, int(length_seconds * sample_rate))\n",
    "    return amplitude * jnp.sin(2 * jnp.pi * frequency * t)\n",
    "\n",
    "target_frequency = 443.0\n",
    "frequencies = np.linspace(420.0, 444.0, 100)\n",
    "\n",
    "def loss_for_frequency(frequency):\n",
    "    X = gen_sinusoid(frequency)\n",
    "    Y = gen_sinusoid(target_frequency)\n",
    "    return loss_fn(X, Y, spectral_loss_opts)"
   ]
  },
  {
   "cell_type": "code",
   "execution_count": null,
   "metadata": {},
   "outputs": [],
   "source": [
    "# TODO this should make the blog post:\n",
    "# There are tiny non-convex ranges of the loss fn when small fft sizes are included in\n",
    "# multi-spectral loss\n",
    "# Plotting est frequency vs loss with L1 distance shows a V with occasional tiny bumps.\n",
    "# The fn is optimizable between these bumps, but not across.\n",
    "# (all fft_sizes are enabled, fft_sizes=(2048, 1024, 512, 256, 128, 64), and cumsum_freq_weight=1.0)\n",
    "# TODO I expect to see a relationship between minimum optimizable frequency, and the fft sizes that allow\n",
    "# smooth gradients. Note that a 20 Hz sine sampled at 16kHz has a period of 800 samples.\n",
    "# TODO show sine frequency optimization across a 20-16000 Hz range for a 44100 Hz sample rate\n",
    "_ = plt.plot(frequencies, [loss_for_frequency(frequency) for frequency in frequencies])"
   ]
  },
  {
   "cell_type": "code",
   "execution_count": null,
   "metadata": {},
   "outputs": [],
   "source": [
    "estimated_frequency = 400.0\n",
    "\n",
    "estimated_frequencies = []\n",
    "losses = []\n",
    "grad_fn = value_and_grad(loss_for_frequency)\n",
    "learning_rate = 10.0\n",
    "for _ in range(100):\n",
    "    loss, grad_value = grad_fn(estimated_frequency)\n",
    "    estimated_frequency -= grad_value * learning_rate\n",
    "\n",
    "    losses.append(loss)\n",
    "    estimated_frequencies.append(estimated_frequency)\n",
    "\n",
    "estimated_frequency"
   ]
  },
  {
   "cell_type": "code",
   "execution_count": null,
   "metadata": {},
   "outputs": [],
   "source": [
    "plt.title('Estimated frequency over time')\n",
    "plt.plot(estimated_frequencies)\n",
    "_ = plt.axhline(y=target_frequency, c=\"g\", linestyle=\"--\", label='Target frequency')"
   ]
  },
  {
   "cell_type": "code",
   "execution_count": null,
   "metadata": {},
   "outputs": [],
   "source": [
    "plt.title('Loss over time')\n",
    "_ = plt.plot(losses)"
   ]
  },
  {
   "cell_type": "code",
   "execution_count": null,
   "metadata": {},
   "outputs": [],
   "source": []
  }
 ],
 "metadata": {
  "kernelspec": {
   "display_name": "Python 3 (ipykernel)",
   "language": "python",
   "name": "python3"
  },
  "language_info": {
   "codemirror_mode": {
    "name": "ipython",
    "version": 3
   },
   "file_extension": ".py",
   "mimetype": "text/x-python",
   "name": "python",
   "nbconvert_exporter": "python",
   "pygments_lexer": "ipython3",
   "version": "3.10.1"
  }
 },
 "nbformat": 4,
 "nbformat_minor": 4
}