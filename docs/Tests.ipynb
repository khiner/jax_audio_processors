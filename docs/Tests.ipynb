{
 "cells": [
  {
   "cell_type": "markdown",
   "metadata": {},
   "source": [
    "Some random sanity checks and scratchpads worth keeping around."
   ]
  },
  {
   "cell_type": "code",
   "execution_count": null,
   "metadata": {},
   "outputs": [],
   "source": [
    "import jax.numpy as jnp\n",
    "from scipy import signal\n",
    "import numpy as np\n",
    "import time\n",
    "\n",
    "from jaxdsp import processor_graph\n",
    "from jaxdsp.processors import fir_filter, iir_filter, clip, delay_line, biquad_lowpass, lowpass_feedback_comb_filter as lbcf, allpass_filter, freeverb, sine_wave"
   ]
  },
  {
   "cell_type": "markdown",
   "metadata": {},
   "source": [
    "## Reverb forward pass"
   ]
  },
  {
   "cell_type": "code",
   "execution_count": null,
   "metadata": {},
   "outputs": [],
   "source": [
    "from IPython.display import Audio\n",
    "from scipy.io.wavfile import read as readwav\n",
    "\n",
    "sample_rate, X = readwav('./audio/speech-male.wav')\n",
    "tail_length = 24 * sample_rate # let it ring out\n",
    "X = np.concatenate([X, np.zeros(tail_length)])"
   ]
  },
  {
   "cell_type": "code",
   "execution_count": null,
   "metadata": {},
   "outputs": [],
   "source": [
    "processor = freeverb\n",
    "presets = processor.PRESETS\n",
    "audio_for_preset = {preset_name: processor.tick_buffer((params, processor.init_state()), X)[1] for preset_name, params in presets.items()}"
   ]
  },
  {
   "cell_type": "code",
   "execution_count": null,
   "metadata": {},
   "outputs": [],
   "source": [
    "# Avoid a harsh clip at the end of the sample.\n",
    "def apply_release(X, release_samples=int(0.2*sample_rate)):\n",
    "    return X * np.concatenate([np.ones(X.shape[-1] - release_samples), np.linspace(1.0, 0.0, release_samples)])\n",
    "\n",
    "output_for_preset = {preset_name: Audio(apply_release(audio.T), rate=sample_rate) for preset_name, audio in audio_for_preset.items()}"
   ]
  },
  {
   "cell_type": "code",
   "execution_count": null,
   "metadata": {},
   "outputs": [],
   "source": [
    "output_for_preset['flat_space']"
   ]
  },
  {
   "cell_type": "code",
   "execution_count": null,
   "metadata": {},
   "outputs": [],
   "source": [
    "output_for_preset['expanding_space']"
   ]
  },
  {
   "cell_type": "code",
   "execution_count": null,
   "metadata": {},
   "outputs": [],
   "source": [
    "import matplotlib.pyplot as plt\n",
    "\n",
    "carry = ({\"frequency_hz\": 0.1}, {\"sample_rate\": 10.0, \"phase_radians\": 0.0})\n",
    "\n",
    "X = jnp.arange(20)\n",
    "carry, Y = sine_wave.tick_buffer(carry, X)\n",
    "carry_2, Y_2 = sine_wave.tick_buffer(carry, X)\n",
    "carry_3, Y_3 = sine_wave.tick_buffer(({\"frequency_hz\": 0.32}, carry_2[1]), X)\n",
    "carry_4, Y_4 = sine_wave.tick_buffer(({\"frequency_hz\": 0.85}, carry_3[1]), X)\n",
    "plt.figure(figsize=(14, 4))\n",
    "plt.title(\"`sine_wave` phase correction over multiple frames with varying frequency\", size=16)\n",
    "plt.plot(jnp.concatenate([Y, Y_2, Y_3, Y_4]))\n",
    "plt.vlines(np.arange(5) * X.size, ymin=-1, ymax=1, color='r', label='Frame boundaries')\n",
    "_ = plt.legend()"
   ]
  },
  {
   "cell_type": "code",
   "execution_count": null,
   "metadata": {},
   "outputs": [],
   "source": [
    "min_position = 0.0\n",
    "max_position = 1.0\n",
    "min_value = 30.0\n",
    "max_value = 16_000.0\n",
    "\n",
    "scale = (np.log(max_value) - np.log(min_value)) / (max_position - min_position)\n",
    "position = np.linspace(min_position, max_position, 1000)\n",
    "scaled = np.exp(np.log(min_value) + scale * (position - min_position))\n",
    "inverse_scaled = (np.log(scaled) - np.log(min_value)) / scale + min_position\n",
    "\n",
    "fig, [plot_1, plot_2] = plt.subplots(2, 1, figsize=(12, 6))\n",
    "fig.suptitle('Exponential slider scaling', size=16)\n",
    "plot_1.set_title('Exponential', size=14)\n",
    "plot_1.plot(position, scaled, linewidth=2, label='exponentially scaled')\n",
    "plot_1.set_ylabel('Scaled')\n",
    "plot_1.hlines([min_value, max_value], xmin=min_position, xmax=max_position, color='r', linestyle='--', label='min/max values')\n",
    "plot_1.legend()\n",
    "plot_2.set_title('Linear & inverse (should match)', size=14)\n",
    "plot_2.plot(position, position, label='linear')\n",
    "plot_2.plot(position, inverse_scaled, linestyle='--', linewidth=3, label='inverse scaled')\n",
    "plot_2.hlines([min_position, max_position], xmin=min_position, xmax=max_position, color='r', linestyle='--', label='min/max positions')\n",
    "plot_2.set_xlabel('Position')\n",
    "plot_2.set_ylabel('Scaled')\n",
    "_ = plot_2.legend()\n",
    "fig.tight_layout()"
   ]
  },
  {
   "cell_type": "markdown",
   "metadata": {},
   "source": [
    "## TODO\n",
    "* demonstrate single-sample tick\n",
    "* plot processing time normalized to real_time = 1.0\n",
    "* compare to C++ performance\n",
    "* charts for impulse response, magnitude spectrogram and phase, updating in real-time"
   ]
  },
  {
   "cell_type": "code",
   "execution_count": null,
   "metadata": {},
   "outputs": [],
   "source": []
  }
 ],
 "metadata": {
  "kernelspec": {
   "display_name": "Python 3",
   "language": "python",
   "name": "python3"
  },
  "language_info": {
   "codemirror_mode": {
    "name": "ipython",
    "version": 3
   },
   "file_extension": ".py",
   "mimetype": "text/x-python",
   "name": "python",
   "nbconvert_exporter": "python",
   "pygments_lexer": "ipython3",
   "version": "3.9.1"
  }
 },
 "nbformat": 4,
 "nbformat_minor": 4
}
