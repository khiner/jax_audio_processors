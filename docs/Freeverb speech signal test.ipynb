{
 "cells": [
  {
   "cell_type": "code",
   "execution_count": null,
   "id": "f606c2bb",
   "metadata": {},
   "outputs": [],
   "source": [
    "%pip install ../ # Use local jaxDSP package rather than published one.\n",
    "\n",
    "import jax.numpy as jnp\n",
    "import numpy as np\n",
    "import time\n",
    "\n",
    "from IPython.display import Audio\n",
    "from scipy.io.wavfile import read as readwav\n",
    "\n",
    "from jaxdsp import training, processor_graph\n",
    "from jaxdsp.processors import freeverb, processors_to_graph_config, processor_names_from_graph_config\n",
    "from jaxdsp.plotting import plot_train, plot_optimization\n",
    "from jaxdsp.loss import LossOptions\n",
    "from jaxdsp.processors.constants import DEFAULT_SAMPLE_RATE"
   ]
  },
  {
   "cell_type": "code",
   "execution_count": null,
   "id": "424084d5",
   "metadata": {},
   "outputs": [],
   "source": [
    "sample_rate, X = readwav('./audio/speech-male.wav')\n",
    "frame_size = 2048\n",
    "tail_length = 5 * sample_rate\n",
    "# X = np.concatenate([X, np.zeros(tail_length)]) # let it ring out\n",
    "X = np.concatenate([X, np.zeros(frame_size - len(X) % frame_size)]) # make it a multiple of `frame_size`\n",
    "Xs = np.array(np.split(X, len(X) // frame_size)) # split into frames\n",
    "\n",
    "default_loss_opts = LossOptions(\n",
    "    weights={\"sample\": 1.0},\n",
    "    distance_types={\"sample\": \"L2\"},\n",
    ")\n",
    "spectral_loss_opts = LossOptions(\n",
    "    weights={\"cumsum_freq\": 1.0},\n",
    "    distance_types={\"frequency\": \"L1\"},\n",
    "#    stft_window=\"hamming\",\n",
    ")\n",
    "optimizer_opts = {\"name\": \"Adam\",'params': {'step_size': 0.02}}\n",
    "print('Num frames: {}'.format(len(Xs)))"
   ]
  },
  {
   "cell_type": "code",
   "execution_count": null,
   "id": "7f85b15d",
   "metadata": {},
   "outputs": [],
   "source": [
    "def evaluate_processors(processors, params_target, Xs, loss_opts=default_loss_opts, optimization_opts=optimizer_opts, num_batches=100, reference_fn=None, plot_loss_history=True, plot_params_history=True, title=None):\n",
    "    graph_config = processors_to_graph_config(processors)\n",
    "    processor_names = processor_names_from_graph_config(graph_config)\n",
    "    trainer = training.IterativeTrainer(graph_config, loss_opts, optimization_opts, track_history=True)\n",
    "    carry_target = (params_target, trainer.state)\n",
    "    start = time.time()\n",
    "    for i in range(num_batches):\n",
    "        X = Xs[i % len(Xs)]\n",
    "        carry_target, Y_target = processor_graph.tick_buffer(carry_target, X, processor_names)\n",
    "        trainer.step(X, Y_target)\n",
    "\n",
    "    params_estimated = params_to_float(trainer.params)\n",
    "    print('Train time: {:.3E} s'.format(time.time() - start))\n",
    "    print('Loss: {:.3E}'.format(trainer.loss))\n",
    "    print('Estimated params: ', params_estimated)\n",
    "\n",
    "    X_eval = Xs[0]\n",
    "    _, Y_estimated = processor_graph.tick_buffer((params_estimated, trainer.state), X_eval, processor_names)\n",
    "    _, Y_target = processor_graph.tick_buffer(carry_target, X_eval, processor_names)\n",
    "    Y_reference = reference_fn(X_eval, carry_target[0]) if reference_fn is not None else None\n",
    "\n",
    "    plot_train(trainer, params_target, X_eval, Y_target, Y_estimated, Y_reference, title=title, plot_loss_history=plot_loss_history, plot_params_history=plot_params_history)\n",
    "    \n",
    "    return X_eval, Y_target, Y_estimated"
   ]
  },
  {
   "cell_type": "code",
   "execution_count": null,
   "id": "6c2fe9fb",
   "metadata": {},
   "outputs": [],
   "source": [
    "X_eval, Y_target, Y_estimated = evaluate_processors([[freeverb]], [[{\n",
    "    'wet': 0.3,\n",
    "    'dry': 0.0,\n",
    "    'width': 1.0,\n",
    "    'damp': 0.5,\n",
    "    'room_size': 0.5,\n",
    "}]], Xs, num_batches=len(Xs) * 2, loss_opts=spectral_loss_opts)"
   ]
  },
  {
   "cell_type": "code",
   "execution_count": null,
   "id": "fc3b806d",
   "metadata": {},
   "outputs": [],
   "source": [
    "from IPython.display import Audio\n",
    "\n",
    "Audio(X_eval, rate=DEFAULT_SAMPLE_RATE)"
   ]
  },
  {
   "cell_type": "code",
   "execution_count": null,
   "id": "189e23b2",
   "metadata": {},
   "outputs": [],
   "source": []
  }
 ],
 "metadata": {
  "kernelspec": {
   "display_name": "Python 3 (ipykernel)",
   "language": "python",
   "name": "python3"
  },
  "language_info": {
   "codemirror_mode": {
    "name": "ipython",
    "version": 3
   },
   "file_extension": ".py",
   "mimetype": "text/x-python",
   "name": "python",
   "nbconvert_exporter": "python",
   "pygments_lexer": "ipython3",
   "version": "3.10.1"
  }
 },
 "nbformat": 4,
 "nbformat_minor": 5
}
