{
 "cells": [
  {
   "cell_type": "code",
   "execution_count": null,
   "metadata": {},
   "outputs": [],
   "source": [
    "!python --version\n",
    "%pip install jax jaxlib --upgrade"
   ]
  },
  {
   "cell_type": "code",
   "execution_count": null,
   "metadata": {},
   "outputs": [],
   "source": [
    "import jax.numpy as jnp\n",
    "from scipy import signal\n",
    "import numpy as np\n",
    "import time\n",
    "\n",
    "from jaxdsp import training, processor_graph\n",
    "from jaxdsp.processors import fir_filter, iir_filter, clip, delay_line, lowpass_feedback_comb_filter as lbcf, allpass_filter, freeverb, sine_wave\n",
    "from jaxdsp.plotting import plot_filter, plot_loss, plot_params, plot_optimization\n",
    "from jaxdsp.loss import LossOptions"
   ]
  },
  {
   "cell_type": "code",
   "execution_count": null,
   "metadata": {},
   "outputs": [],
   "source": [
    "num_train = 100\n",
    "\n",
    "buffer_size = 44100\n",
    "Xs_random = np.random.randn(num_train, buffer_size)\n",
    "Xs_chirp = np.array(np.split(signal.chirp(np.linspace(0.0, num_train, num_train * buffer_size), f0=10, f1=1000, t1=num_train), num_train))\n",
    "\n",
    "default_loss_opts = LossOptions(\n",
    "    weights={\n",
    "        \"sample\": 1.0,\n",
    "    },\n",
    "    distance_types={\n",
    "        \"sample\": \"L2\",\n",
    "    },\n",
    ")\n",
    "spectral_loss_opts = LossOptions(\n",
    "    weights={\n",
    "        \"cumsum_freq\": 1.0,\n",
    "    },\n",
    "    distance_types={\n",
    "        \"frequency\": \"L1\",\n",
    "    },\n",
    ")"
   ]
  },
  {
   "cell_type": "code",
   "execution_count": null,
   "metadata": {},
   "outputs": [],
   "source": [
    "def evaluate_processors(processors, params_targets, loss_opts=default_loss_opts, optimization_opts={}, Xs=Xs_chirp, num_batches=100, reference_fn=None, plot_loss_history=True, plot_params_history=True, title=None):\n",
    "    processor_config = [{\"name\": processor.NAME} for processor in processors]\n",
    "    processor_names = [processor.NAME for processor in processors]\n",
    "    trainer = training.IterativeTrainer(processor_config, loss_opts, optimization_opts, track_history=True)\n",
    "    carry_target = (params_targets, trainer.state)\n",
    "    start = time.time()\n",
    "    for i in range(num_batches):\n",
    "        # X = Xs[i % Xs.shape[0]]\n",
    "        X = Xs[np.random.choice(Xs.shape[0])]\n",
    "        carry_target, Y_target = processor_graph.tick_buffer_series(carry_target, X, processor_names)\n",
    "        trainer.step(X, Y_target)\n",
    "\n",
    "    params_estimated = trainer.float_params()\n",
    "    carry_estimated = (params_estimated, trainer.state)\n",
    "    print('Train time: {:.3E} s'.format(time.time() - start))\n",
    "    print('Loss: {:.3E}'.format(trainer.loss))\n",
    "    print('Estimated params: ', params_estimated)\n",
    "\n",
    "    X_eval = Xs[0]\n",
    "    carry_estimated, Y_estimated = processor_graph.tick_buffer_series(carry_estimated, X_eval, processor_names)\n",
    "    carry_target, Y_target = processor_graph.tick_buffer_series(carry_target, X_eval, processor_names)\n",
    "    Y_reference = reference_fn(X_eval, carry_target[0]) if reference_fn is not None else None\n",
    "\n",
    "    if plot_loss_history:\n",
    "        plot_loss(trainer.step_evaluator.loss_history)\n",
    "    if plot_params_history:\n",
    "        plot_params(training.float_params(carry_target[0]), trainer.step_evaluator.params_history, processor_names)\n",
    "    plot_filter(X_eval, Y_target, Y_reference, Y_estimated, title)"
   ]
  },
  {
   "cell_type": "code",
   "execution_count": null,
   "metadata": {
    "scrolled": true
   },
   "outputs": [],
   "source": [
    "evaluate_processors([lbcf], [{\"feedback\": 0.5, \"damp\": 0.5}])"
   ]
  },
  {
   "cell_type": "code",
   "execution_count": null,
   "metadata": {},
   "outputs": [],
   "source": [
    "evaluate_processors([sine_wave], [{\"frequency_hz\": 400.0}], loss_opts=spectral_loss_opts, optimization_opts={'params': {'step_size': 0.0003}})"
   ]
  },
  {
   "cell_type": "code",
   "execution_count": null,
   "metadata": {},
   "outputs": [],
   "source": [
    "evaluate_processors([freeverb], [{\n",
    "    'wet': 0.3,\n",
    "    'dry': 0.0,\n",
    "    'width': 1.0,\n",
    "    'damp': 0.5,\n",
    "    'room_size': 0.5,\n",
    "}], num_batches=4)"
   ]
  },
  {
   "cell_type": "code",
   "execution_count": null,
   "metadata": {},
   "outputs": [],
   "source": [
    "evaluate_processors([allpass_filter], [{'feedback': 0.5}])"
   ]
  },
  {
   "cell_type": "code",
   "execution_count": null,
   "metadata": {},
   "outputs": [],
   "source": [
    "evaluate_processors([delay_line], [{'wet': 0.5, 'delay_samples': 10.0}], loss_opts=spectral_loss_opts)"
   ]
  },
  {
   "cell_type": "code",
   "execution_count": null,
   "metadata": {},
   "outputs": [],
   "source": [
    "evaluate_processors([fir_filter], [{'B': jnp.array([0.1, 0.7, 0.5, 0.6])}], Xs=Xs_random, reference_fn=lambda X, params: signal.lfilter(params[fir_filter.NAME]['B'], [1.0], X))"
   ]
  },
  {
   "cell_type": "code",
   "execution_count": null,
   "metadata": {},
   "outputs": [],
   "source": [
    "from scipy import signal\n",
    "B_target, A_target = signal.butter(4, 0.5, \"low\")\n",
    "iir_filter_target_params = {\n",
    "    'B': B_target,\n",
    "    'A': A_target,\n",
    "}\n",
    "evaluate_processors([iir_filter], [iir_filter_target_params], Xs=Xs_random, reference_fn=lambda X, params: signal.lfilter(params[iir_filter.NAME]['B'], params[iir_filter.NAME]['A'], X))"
   ]
  },
  {
   "cell_type": "code",
   "execution_count": null,
   "metadata": {},
   "outputs": [],
   "source": [
    "clip_target_params = {'min': -0.5, 'max': 0.5}\n",
    "evaluate_processors([clip], [clip_target_params], reference_fn=lambda X, params: np.clip(X, params[clip.NAME]['min'], params[clip.NAME]['max']))"
   ]
  },
  {
   "cell_type": "code",
   "execution_count": null,
   "metadata": {},
   "outputs": [],
   "source": [
    "evaluate_processors([iir_filter, clip], [iir_filter_target_params, clip_target_params], num_batches=500)"
   ]
  },
  {
   "cell_type": "code",
   "execution_count": null,
   "metadata": {},
   "outputs": [],
   "source": []
  }
 ],
 "metadata": {
  "kernelspec": {
   "display_name": "Python 3",
   "language": "python",
   "name": "python3"
  },
  "language_info": {
   "codemirror_mode": {
    "name": "ipython",
    "version": 3
   },
   "file_extension": ".py",
   "mimetype": "text/x-python",
   "name": "python",
   "nbconvert_exporter": "python",
   "pygments_lexer": "ipython3",
   "version": "3.9.1"
  }
 },
 "nbformat": 4,
 "nbformat_minor": 4
}
