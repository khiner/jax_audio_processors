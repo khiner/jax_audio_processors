{
 "cells": [
  {
   "cell_type": "code",
   "execution_count": null,
   "metadata": {},
   "outputs": [],
   "source": [
    "!python --version\n",
    "%pip install ../ # Use local jaxDSP package rather than published one.\n",
    "%pip install numpy matplotlib jax jaxlib --upgrade"
   ]
  },
  {
   "cell_type": "code",
   "execution_count": null,
   "metadata": {},
   "outputs": [],
   "source": [
    "import jax.numpy as jnp\n",
    "from scipy import signal\n",
    "import numpy as np\n",
    "import time\n",
    "\n",
    "from jaxdsp import training, processor_graph\n",
    "from jaxdsp.processors import fir_filter, iir_filter, clip, delay_line, biquad_lowpass, lowpass_filter, allpass_filter, freeverb, sine_wave, processors_to_graph_config, processor_names_from_graph_config\n",
    "from jaxdsp.plotting import plot_train, plot_optimization\n",
    "from jaxdsp.loss import LossOptions\n",
    "from jaxdsp.params import params_to_float"
   ]
  },
  {
   "cell_type": "code",
   "execution_count": null,
   "metadata": {},
   "outputs": [],
   "source": [
    "num_train = 100\n",
    "\n",
    "buffer_size = 44100\n",
    "Xs_random = np.random.randn(num_train, buffer_size)\n",
    "Xs_chirp = np.array(np.split(signal.chirp(np.linspace(0.0, num_train, num_train * buffer_size), f0=10, f1=1000, t1=num_train), num_train))\n",
    "\n",
    "default_loss_opts = LossOptions(\n",
    "    weights={\"sample\": 1.0},\n",
    "    distance_types={\"sample\": \"L2\"},\n",
    ")\n",
    "# NOTE (for blog post/paper):\n",
    "# Changing the STFT window can have dramatic effects on the optimization.\n",
    "# E.g. with the sines->filter test below, changing `stft_window` from the default ('hann') to 'hamming' or 'bartlett' makes it not succeed.\n",
    "spectral_loss_opts = LossOptions(\n",
    "    weights={\"cumsum_freq\": 1.0},\n",
    "    distance_types={\"frequency\": \"L1\"},\n",
    "#    stft_window=\"hamming\",\n",
    ")\n",
    "optimizer_opts = {\"name\": \"Adam\"}"
   ]
  },
  {
   "cell_type": "code",
   "execution_count": null,
   "metadata": {},
   "outputs": [],
   "source": [
    "def evaluate_processors(processors, params_target, loss_opts=default_loss_opts, optimization_opts=optimizer_opts, Xs=Xs_chirp, num_batches=100, reference_fn=None, plot_loss_history=True, plot_params_history=True, title=None):\n",
    "    graph_config = processors_to_graph_config(processors)\n",
    "    processor_names = processor_names_from_graph_config(graph_config)\n",
    "    trainer = training.IterativeTrainer(graph_config, loss_opts, optimization_opts, track_history=True)\n",
    "    carry_target = (params_target, trainer.state)\n",
    "    start = time.time()\n",
    "    for i in range(num_batches):\n",
    "        # X = Xs[i % Xs.shape[0]]\n",
    "        X = Xs[np.random.choice(Xs.shape[0])]\n",
    "        carry_target, Y_target = processor_graph.tick_buffer(carry_target, X, processor_names)\n",
    "        trainer.step(X, Y_target)\n",
    "\n",
    "    params_estimated = params_to_float(trainer.params)\n",
    "    print('Train time: {:.3E} s'.format(time.time() - start))\n",
    "    print('Loss: {:.3E}'.format(trainer.loss))\n",
    "    print('Estimated params: ', params_estimated)\n",
    "\n",
    "    X_eval = Xs[0]\n",
    "    _, Y_estimated = processor_graph.tick_buffer((params_estimated, trainer.state), X_eval, processor_names)\n",
    "    _, Y_target = processor_graph.tick_buffer(carry_target, X_eval, processor_names)\n",
    "    Y_reference = reference_fn(X_eval, carry_target[0]) if reference_fn is not None else None\n",
    "\n",
    "    plot_train(trainer, params_target, X_eval, Y_target, Y_estimated, Y_reference, title=title, plot_loss_history=plot_loss_history, plot_params_history=plot_params_history)"
   ]
  },
  {
   "cell_type": "code",
   "execution_count": null,
   "metadata": {
    "scrolled": true
   },
   "outputs": [],
   "source": [
    "evaluate_processors([[lowpass_filter]], [[{\"feedback\": 0.5, \"damp\": 0.5}]])"
   ]
  },
  {
   "cell_type": "code",
   "execution_count": null,
   "metadata": {},
   "outputs": [],
   "source": [
    "evaluate_processors([[sine_wave]], [[{\"frequency_hz\": 400.0}]], loss_opts=spectral_loss_opts, optimization_opts={'name': 'Adam', 'params': {'step_size': 0.0003}})"
   ]
  },
  {
   "cell_type": "code",
   "execution_count": null,
   "metadata": {},
   "outputs": [],
   "source": [
    "evaluate_processors([[freeverb]], [[{\n",
    "    'wet': 0.3,\n",
    "    'dry': 0.0,\n",
    "    'width': 1.0,\n",
    "    'damp': 0.5,\n",
    "    'room_size': 0.5,\n",
    "}]], num_batches=4)"
   ]
  },
  {
   "cell_type": "code",
   "execution_count": null,
   "metadata": {},
   "outputs": [],
   "source": [
    "evaluate_processors([[allpass_filter]], [[{'feedback': 0.5}]])"
   ]
  },
  {
   "cell_type": "code",
   "execution_count": null,
   "metadata": {},
   "outputs": [],
   "source": [
    "reference_fn = lambda X, params: signal.lfilter(params[0][0]['B'], [1.0], X)\n",
    "evaluate_processors([[fir_filter]], [[{'B': jnp.array([0.1, 0.7, 0.5, 0.6])}]], Xs=Xs_random, reference_fn=reference_fn)"
   ]
  },
  {
   "cell_type": "code",
   "execution_count": null,
   "metadata": {},
   "outputs": [],
   "source": [
    "from scipy import signal\n",
    "B_target, A_target = signal.butter(4, 0.5, \"low\")\n",
    "iir_filter_target_params = {\n",
    "    'B': B_target,\n",
    "    'A': A_target,\n",
    "}\n",
    "reference_fn = lambda X, params: signal.lfilter(params[0][0]['B'], params[0][0]['A'], X)\n",
    "evaluate_processors([[iir_filter]], [[iir_filter_target_params]], Xs=Xs_random, reference_fn=reference_fn)"
   ]
  },
  {
   "cell_type": "code",
   "execution_count": null,
   "metadata": {},
   "outputs": [],
   "source": [
    "clip_target_params = {'min': -0.5, 'max': 0.5}\n",
    "reference_fn = lambda X, params: np.clip(X, params[0][0]['min'], params[0][0]['max'])\n",
    "evaluate_processors([[clip]], [[clip_target_params]], reference_fn=reference_fn)"
   ]
  },
  {
   "cell_type": "code",
   "execution_count": null,
   "metadata": {},
   "outputs": [],
   "source": [
    "evaluate_processors([[iir_filter], [clip]], [[iir_filter_target_params], [clip_target_params]], num_batches=200)"
   ]
  },
  {
   "cell_type": "code",
   "execution_count": null,
   "metadata": {},
   "outputs": [],
   "source": [
    "evaluate_processors([[sine_wave, sine_wave], [allpass_filter]], [[{'frequency_hz': 400.0}, {'frequency_hz': 600.0}], [{'feedback': 0.5}]], loss_opts=spectral_loss_opts, optimization_opts={'name': 'Adam', 'params': {'step_size': 0.006}}, num_batches=400)"
   ]
  },
  {
   "cell_type": "code",
   "execution_count": null,
   "metadata": {},
   "outputs": [],
   "source": []
  }
 ],
 "metadata": {
  "kernelspec": {
   "display_name": "Python 3 (ipykernel)",
   "language": "python",
   "name": "python3"
  },
  "language_info": {
   "codemirror_mode": {
    "name": "ipython",
    "version": 3
   },
   "file_extension": ".py",
   "mimetype": "text/x-python",
   "name": "python",
   "nbconvert_exporter": "python",
   "pygments_lexer": "ipython3",
   "version": "3.10.1"
  },
  "vscode": {
   "interpreter": {
    "hash": "aee8b7b246df8f9039afb4144a1f6fd8d2ca17a180786b69acc140d282b71a49"
   }
  }
 },
 "nbformat": 4,
 "nbformat_minor": 4
}
